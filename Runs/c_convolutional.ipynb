{
 "cells": [
  {
   "cell_type": "code",
   "execution_count": 1,
   "metadata": {},
   "outputs": [
    {
     "name": "stdout",
     "output_type": "stream",
     "text": [
      "WARNING:tensorflow:From c:\\Users\\Eirik\\Desktop\\UIO\\FYSSTK\\Project3_FYS_STK4155\\.venv\\lib\\site-packages\\keras\\src\\losses.py:2976: The name tf.losses.sparse_softmax_cross_entropy is deprecated. Please use tf.compat.v1.losses.sparse_softmax_cross_entropy instead.\n",
      "\n"
     ]
    },
    {
     "name": "stderr",
     "output_type": "stream",
     "text": [
      "c:\\Users\\Eirik\\Desktop\\UIO\\FYSSTK\\Project3_FYS_STK4155\\.venv\\lib\\site-packages\\tqdm\\auto.py:21: TqdmWarning: IProgress not found. Please update jupyter and ipywidgets. See https://ipywidgets.readthedocs.io/en/stable/user_install.html\n",
      "  from .autonotebook import tqdm as notebook_tqdm\n"
     ]
    }
   ],
   "source": [
    "import seaborn as sns\n",
    "import matplotlib.pyplot as plt\n",
    "import sys, os\n",
    "\n",
    "# Set the default font size for text elements (e.g., titles, labels)\n",
    "sns.set() # default from sns is pretties (:\n",
    "import matplotlib as mpl\n",
    "mpl.rcParams['font.size'] = 16\n",
    "mpl.rcParams[\"axes.labelsize\"] = 14\n",
    "mpl.rcParams[\"axes.titlesize\"] = 14\n",
    "mpl.rcParams['legend.fontsize'] = 14\n",
    "mpl.rcParams['font.family'] = 'sans-serif'\n",
    "\n",
    "\n",
    "# Set filename start. Create the folder if gone\n",
    "filepath_location = \"Figures/b/\"\n",
    "if not os.path.exists(filepath_location):\n",
    "    os.makedirs(filepath_location[0:-1])\n",
    "\n",
    "\n",
    "# Handling paths for importing code\n",
    "import sys, os\n",
    "sys.path.append(os.path.abspath(os.path.join('..')))\n",
    "\n",
    "# Import split and MSELoss. All descent methods.\n",
    "from Code.data_handling import train_test_split, load_MNIST_28\n",
    "from Code.utilities import MSELoss_method, plot_test_results, cross_entropy_loss_method\n",
    "from Code.neural_network import _beta_init, get_neural_network_model\n",
    "from Code.descent_methods import SGD_adam\n",
    "\n",
    "from jax import jit, nn, grad, device_get\n",
    "import jax.numpy as jnp\n",
    "import jax.scipy as jsp\n",
    "import numpy as np\n",
    "\n",
    "\n",
    "\n",
    "#In testing\n",
    "from Code.convolutional import convolutional_model_old, _beta_init_conv, get_convolutional_model"
   ]
  },
  {
   "cell_type": "code",
   "execution_count": 2,
   "metadata": {},
   "outputs": [
    {
     "name": "stdout",
     "output_type": "stream",
     "text": [
      "inputs = (n_inputs, pixel_width, pixel_height, depth) = (1797, 8, 8, 1)\n",
      "labels = (n_inputs) = (1797,)\n"
     ]
    },
    {
     "data": {
      "image/png": "[encoded data removed]",
      "text/plain": [
       "<Figure size 1200x1200 with 5 Axes>"
      ]
     },
     "metadata": {},
     "output_type": "display_data"
    }
   ],
   "source": [
    "# import necessary packages\n",
    "import numpy as np\n",
    "from sklearn import datasets\n",
    "\n",
    "# ensure the same random numbers appear every time\n",
    "np.random.seed(0)\n",
    "\n",
    "# display images in notebook\n",
    "%matplotlib inline\n",
    "plt.rcParams['figure.figsize'] = (12,12)\n",
    "\n",
    "\n",
    "# download MNIST dataset\n",
    "digits = datasets.load_digits()\n",
    "\n",
    "# define inputs and labels\n",
    "inputs = digits.images\n",
    "labels = digits.target\n",
    "\n",
    "# RGB images have a depth of 3\n",
    "# our images are grayscale so they should have a depth of 1\n",
    "inputs = inputs[:,:,:,np.newaxis]\n",
    "\n",
    "print(\"inputs = (n_inputs, pixel_width, pixel_height, depth) = \" + str(inputs.shape))\n",
    "print(\"labels = (n_inputs) = \" + str(labels.shape))\n",
    "\n",
    "\n",
    "# choose some random images to display\n",
    "n_inputs = len(inputs)\n",
    "indices = np.arange(n_inputs)\n",
    "random_indices = np.random.choice(indices, size=5)\n",
    "\n",
    "for i, image in enumerate(digits.images[random_indices]):\n",
    "    plt.subplot(1, 5, i+1)\n",
    "    plt.axis('off')\n",
    "    plt.imshow(image, cmap=plt.cm.gray_r, interpolation='nearest')\n",
    "    plt.title(\"Label: %d\" % digits.target[random_indices[i]])\n",
    "plt.show()"
   ]
  },
  {
   "cell_type": "code",
   "execution_count": 25,
   "metadata": {},
   "outputs": [
    {
     "name": "stdout",
     "output_type": "stream",
     "text": [
      "(1438, 8, 8)\n",
      "(359, 8, 8)\n",
      "(1438, 10)\n",
      "(359, 10)\n",
      "(1500, 28, 28)\n",
      "(300, 28, 28)\n",
      "(1500, 10)\n",
      "(300, 10)\n"
     ]
    }
   ],
   "source": [
    "X = inputs.reshape((inputs.shape[0], inputs.shape[1], inputs.shape[2]))\n",
    "\n",
    "# Convert the numbers in y to arrays with 0's and 1's corresponding to classes \n",
    "y = labels.reshape((labels.shape[0]))\n",
    "y = np.eye(10)[y]\n",
    "\n",
    "\n",
    "# Split in test and train\n",
    "X_train, y_train, X_test, y_test, test_index = train_test_split(X, y, 0.2, test_index=None)\n",
    "\n",
    "print(X_train.shape)\n",
    "print(X_test.shape)\n",
    "print(y_train.shape)\n",
    "print(y_test.shape)\n",
    "\n",
    "# # download MNIST dataset\n",
    "X_train, y_train, X_test, y_test = load_MNIST_28(flatten_images=False)\n",
    "\n",
    "X_train, y_train, X_test, y_test = X_train[:1500], y_train[:1500], X_test[:300], y_test[:300]\n",
    "\n",
    "print(X_train.shape)\n",
    "print(X_test.shape)\n",
    "print(y_train.shape)\n",
    "print(y_test.shape)\n",
    "# print(X_train.shape)"
   ]
  },
  {
   "cell_type": "code",
   "execution_count": 26,
   "metadata": {},
   "outputs": [],
   "source": [
    "window_size = 3\n",
    "beta0 = {\"conv_window_1\":np.random.normal(0, 1, (1, window_size, window_size)), \"W2\":np.random.normal(0, 1, (64, 10)), \"b2\":np.random.normal(0, 1, (1, 10))}\n",
    "\n",
    "\n",
    "def conv_model(beta, X):\n",
    "    out = jsp.signal.convolve(X.copy(), beta[\"conv0\"], mode=\"full\")\n",
    "    out = jsp.signal.convolve(out, beta[\"conv1\"], mode=\"full\")\n",
    "    out = jsp.signal.convolve(out, beta[\"conv2\"], mode=\"full\")\n",
    "    out = jsp.signal.convolve(out, beta[\"conv3\"], mode=\"full\")\n",
    "    out = jnp.resize(out, (out.shape[0], out.shape[1]*out.shape[2]))\n",
    "    out = nn.sigmoid(jnp.dot(out, beta[\"W_out\"]) + beta[\"b_out\"])\n",
    "    return out\n",
    "\n",
    "\n",
    "\n",
    "\n",
    "# Make prediction function:\n",
    "def predict(model, beta, X):\n",
    "    \"\"\"\n",
    "    Returns the predicted number for each sample in X\n",
    "    \"\"\"\n",
    "\n",
    "    # Use the neural network\n",
    "    y = model(beta, X)\n",
    "\n",
    "    # Find best guess index\n",
    "    predictions = jnp.array([jnp.argmax(y_sample) for y_sample in y])\n",
    "\n",
    "    return predictions\n",
    "\n",
    "\n",
    "\n",
    "# Define new accuracy function\n",
    "def accuracy_method(model):\n",
    "    \"\"\"\n",
    "    Returns function for evaluating accuracy for given model\n",
    "    ACCURACY = percentage guessed correctly    \n",
    "    \"\"\"\n",
    "\n",
    "    def accuracy_func(beta, X, y):\n",
    "\n",
    "        # Find indeces corresponding to ground truth\n",
    "        predictions_gt = jnp.array([jnp.argmax(y_sample) for y_sample in y])\n",
    "        predictions    = predict(model, beta, X)\n",
    "\n",
    "        # return 1-jnp.mean(jnp.abs(predictions_gt-predictions))\n",
    "        return jnp.sum(predictions_gt == predictions) / predictions.shape[0]\n",
    "\n",
    "    return accuracy_func\n",
    "\n",
    "\n",
    "\n"
   ]
  },
  {
   "cell_type": "code",
   "execution_count": null,
   "metadata": {},
   "outputs": [],
   "source": []
  },
  {
   "cell_type": "code",
   "execution_count": 31,
   "metadata": {},
   "outputs": [
    {
     "name": "stdout",
     "output_type": "stream",
     "text": [
      "dict_keys(['conv0', 'conv1', 'W_out', 'b_out'])\n"
     ]
    },
    {
     "name": "stderr",
     "output_type": "stream",
     "text": [
      "100%|██████████| 300/300 [01:20<00:00,  3.72it/s]\n"
     ]
    },
    {
     "data": {
      "image/png": "[encoded data removed]",
      "text/plain": [
       "<Figure size 900x300 with 2 Axes>"
      ]
     },
     "metadata": {},
     "output_type": "display_data"
    },
    {
     "name": "stdout",
     "output_type": "stream",
     "text": [
      "test:  0.75\n",
      "train:  0.96933335\n"
     ]
    }
   ],
   "source": [
    "def single_run(X_train, X_test, y_train, y_test, lr, lam, window_size_list=[3, 4],\n",
    "               epochs=300, test_index=None, plot_or_not=False):\n",
    "    \n",
    "    \"\"\"\n",
    "    Performs a training with the given parameter\n",
    "\n",
    "    Returns result, including the final accuracy scores\n",
    "    \"\"\"\n",
    "\n",
    "    # Initialise beta and create the model\n",
    "    beta0 = _beta_init_conv((X_train.shape[1], X_train.shape[2]), window_size_list)\n",
    "    print(beta0.keys())\n",
    "    # model = jit(get_convolutional_model(beta0))\n",
    "    model = jit(convolutional_model_old)\n",
    "    # model = jit(conv_model)\n",
    "\n",
    "    # Create gradient from loss function. Ridge loss lets us use MSE by lam=0\n",
    "    loss_func = jit(MSELoss_method(model=model, lam=lam))\n",
    "    loss_grad = jit(grad(loss_func))\n",
    "\n",
    "    # MSE loss function for evaluation\n",
    "    test_func = jit(MSELoss_method(model))\n",
    "    # test_func2 = jit(accuracy_method(model))\n",
    "    test_funcs = [test_func]#, test_func2]\n",
    "\n",
    "    # Perform training. We use adam, add the test index\n",
    "    result = SGD_adam(X_train, y_train, X_test, y_test, grad_method=loss_grad,beta0=beta0, n_epochs=epochs, \n",
    "                      test_loss_func= test_funcs, lr=lr)\n",
    "    result.update({\"model\":model, \"X_test\":X_test, \"y_test\":y_test})\n",
    "\n",
    "    if plot_or_not:\n",
    "        plot_test_results(result[\"test_loss_list\"][0], result[\"train_loss_list\"][0], 5, ylabel=\"MSE\")\n",
    "        # plot_test_results(result[\"test_loss_list\"][1], result[\"train_loss_list\"][1], 5, ylabel=\"Accuracy\")\n",
    "\n",
    "    result[\"test_accuracy\"] = accuracy_method(model)(result[\"beta_final\"], X_test, y_test)\n",
    "    result[\"train_accuracy\"] = accuracy_method(model)(result[\"beta_final\"], X_train, y_train)\n",
    "\n",
    "    return result\n",
    "\n",
    "epochs = 300\n",
    "result = single_run(X_train, X_test, y_train, y_test, lr=0.01, lam=0.0001, epochs=epochs, plot_or_not=True)\n",
    "\n",
    "print(\"test: \", result[\"test_accuracy\"])\n",
    "print(\"train: \", result[\"train_accuracy\"])"
   ]
  },
  {
   "cell_type": "code",
   "execution_count": 6,
   "metadata": {},
   "outputs": [],
   "source": [
    "beta0 = _beta_init_conv((X_train.shape[1], X_train.shape[2]), (2, 3, 4))\n",
    "model = get_convolutional_model(beta0)\n",
    "\n"
   ]
  },
  {
   "cell_type": "code",
   "execution_count": null,
   "metadata": {},
   "outputs": [],
   "source": []
  },
  {
   "cell_type": "code",
   "execution_count": null,
   "metadata": {},
   "outputs": [],
   "source": []
  }
 ],
 "metadata": {
  "kernelspec": {
   "display_name": ".venv",
   "language": "python",
   "name": "python3"
  },
  "language_info": {
   "codemirror_mode": {
    "name": "ipython",
    "version": 3
   },
   "file_extension": ".py",
   "mimetype": "text/x-python",
   "name": "python",
   "nbconvert_exporter": "python",
   "pygments_lexer": "ipython3",
   "version": "3.9.12"
  }
 },
 "nbformat": 4,
 "nbformat_minor": 2
}
